{
 "cells": [
  {
   "cell_type": "markdown",
   "metadata": {},
   "source": [
    "# 递归"
   ]
  },
  {
   "cell_type": "markdown",
   "metadata": {},
   "source": [
    "## 实现函数"
   ]
  },
  {
   "cell_type": "code",
   "execution_count": 1,
   "metadata": {},
   "outputs": [
    {
     "data": {
      "text/plain": [
       "[5,5,5]"
      ]
     },
     "metadata": {},
     "output_type": "display_data"
    }
   ],
   "source": [
    "replicate' :: (Num i, Ord i) => i -> a -> [a]\n",
    "replicate' n x\n",
    "    | n <= 0    = []\n",
    "    | otherwise = x:replicate' (n-1) x\n",
    "\n",
    "replicate' 3 5"
   ]
  },
  {
   "cell_type": "code",
   "execution_count": 2,
   "metadata": {},
   "outputs": [
    {
     "data": {
      "text/plain": [
       "[5,4,3]"
      ]
     },
     "metadata": {},
     "output_type": "display_data"
    }
   ],
   "source": [
    "take' :: (Num i, Ord i) => i -> [a] -> [a]\n",
    "take' n _\n",
    "    | n <= 0   = []\n",
    "take' _ []     = []\n",
    "take' n (x:xs) = x : take' (n-1) xs\n",
    "\n",
    "take' 3 [5,4,3,2,1]"
   ]
  },
  {
   "cell_type": "code",
   "execution_count": 3,
   "metadata": {},
   "outputs": [
    {
     "data": {
      "text/plain": [
       "[1,2,3,4,5]"
      ]
     },
     "metadata": {},
     "output_type": "display_data"
    }
   ],
   "source": [
    "reverse' :: [a] -> [a]\n",
    "reverse' [] = []\n",
    "reverse' (x:xs) = reverse' xs ++ [x]\n",
    "\n",
    "reverse' [5, 4, 3, 2, 1]"
   ]
  },
  {
   "cell_type": "code",
   "execution_count": 4,
   "metadata": {},
   "outputs": [],
   "source": [
    "repeat' :: a -> [a]\n",
    "repeat' x = x:repeat' x"
   ]
  },
  {
   "cell_type": "code",
   "execution_count": 4,
   "metadata": {},
   "outputs": [
    {
     "data": {
      "text/plain": [
       "[(1,'a'),(2,'b')]"
      ]
     },
     "metadata": {},
     "output_type": "display_data"
    }
   ],
   "source": [
    "zip' :: [a] -> [b] -> [(a,b)]\n",
    "zip' _ [] = []\n",
    "zip' [] _ = []\n",
    "zip' (x:xs) (y:ys) = (x,y):zip' xs ys\n",
    "\n",
    "zip' [1,2,3] ['a','b']"
   ]
  },
  {
   "cell_type": "code",
   "execution_count": 5,
   "metadata": {},
   "outputs": [
    {
     "data": {
      "text/plain": [
       "True"
      ]
     },
     "metadata": {},
     "output_type": "display_data"
    }
   ],
   "source": [
    "elem' :: (Eq a) => a -> [a] -> Bool\n",
    "elem' a [] = False\n",
    "elem' a (x:xs)\n",
    "    | a == x    = True\n",
    "    | otherwise = a `elem'` xs\n",
    "\n",
    "3 `elem'` [3, 4, 5]"
   ]
  },
  {
   "cell_type": "markdown",
   "metadata": {},
   "source": [
    "## 快速排序"
   ]
  },
  {
   "cell_type": "code",
   "execution_count": 6,
   "metadata": {},
   "outputs": [
    {
     "ename": "",
     "evalue": "",
     "output_type": "error",
     "traceback": [
      "Parse error (line 5, column 21): parse error on input ‘=’\nPerhaps you need a 'let' in a 'do' block?\ne.g. 'let x = 5' instead of 'x = 5'"
     ]
    }
   ],
   "source": [
    "quicksort :: (Ord a) => [a] -> [a]\n",
    "quicksort [] = []\n",
    "quicksort (x:xs) =\n",
    "  let smallerSorted = quicksort [a | a <- xs, a <= x]\n",
    "       biggerSorted = quicksort [a | a <- xs, a > x]\n",
    "  in smallerSorted ++ [x] ++ biggerSorted\n",
    "\n",
    "quicksort [10,2,5,3,1,6,7,4,2,3,4,8,9]"
   ]
  },
  {
   "cell_type": "code",
   "execution_count": null,
   "metadata": {},
   "outputs": [],
   "source": []
  }
 ],
 "metadata": {
  "kernelspec": {
   "display_name": "Haskell",
   "language": "haskell",
   "name": "haskell"
  },
  "language_info": {
   "codemirror_mode": "ihaskell",
   "file_extension": ".hs",
   "name": "haskell",
   "pygments_lexer": "Haskell",
   "version": "8.6.5"
  }
 },
 "nbformat": 4,
 "nbformat_minor": 2
}
