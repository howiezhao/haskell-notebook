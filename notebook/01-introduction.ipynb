{
 "cells": [
  {
   "cell_type": "markdown",
   "metadata": {},
   "source": [
    "# 简介"
   ]
  },
  {
   "cell_type": "markdown",
   "metadata": {},
   "source": [
    "阅读之前，如果你对**编译型语言**、**解释型语言**、**构建**等词不甚了解，建议你花几分钟时间阅读下述文章：\n",
    "- [开发环境代表什么](https://howiezhao.github.io/2018/09/23/what-is-development-environment/)\n",
    "- [编译与构建](https://howiezhao.github.io/2018/07/15/compile-build/)"
   ]
  },
  {
   "cell_type": "markdown",
   "metadata": {},
   "source": [
    "## 术语"
   ]
  },
  {
   "cell_type": "markdown",
   "metadata": {},
   "source": [
    "- [GHC](https://www.haskell.org/ghc/)：全称 Glasgow Haskell Compiler，Haskell 编译器。\n",
    "- [GHCi](https://wiki.haskell.org/GHC/GHCi)：GHC 的交互式环境，在其中可以交互评估 Haskell 表达式并可以解释程序。\n",
    "- [Cabal](https://www.haskell.org/cabal/)：官方 Haskell 构建工具，类似于 Java 的 Maven 等。\n",
    "- [Stack](https://docs.haskellstack.org/en/stable/README/)：第三方 Haskell 构建工具，类似于 Cabal、Maven 等，建议使用 Stack。\n",
    "- [Haskell Platform](https://www.haskell.org/platform/)：官方 Haskell 平台软件包，包含 GHC、Cabal、核心包等，自 2022 年起已废弃。\n",
    "- [Hackage](https://hackage.haskell.org/)：Haskell 社区的开源软件的中央软件包，类似于 Python 的 PyPI 等。\n",
    "- [Stackage](https://www.stackage.org/)：Haskell 软件包的稳定来源，类似于 Hackage、PyPI 等。\n",
    "- [Hoogle](https://hoogle.haskell.org/)：Haskell API 搜索引擎，它允许您通过函数名或近似类型签名在 Stackage 上搜索 Haskell 库。\n",
    "- [ghc-mod](https://github.com/DanielG/ghc-mod)：Haskell 第三方包，为编辑器/ IDE 提供了 Haskell 编译器功能的支持，现已不再维护。\n",
    "- [hsdev](https://github.com/mvoidex/hsdev)：Haskell 第三方包，Haskell 开发库和工具，支持自动完成，符号信息，跳转到声明，查找引用，hayoo 搜索等，类似于 ghc-mod。"
   ]
  },
  {
   "cell_type": "markdown",
   "metadata": {},
   "source": [
    "## ghc 相关命令"
   ]
  },
  {
   "cell_type": "code",
   "execution_count": 2,
   "metadata": {},
   "outputs": [
    {
     "ename": "",
     "evalue": "",
     "output_type": "error",
     "traceback": [
      "Parse error (line 1, column 1): parse error on input ‘#’"
     ]
    }
   ],
   "source": [
    "# 帮助信息\n",
    "ghc --help"
   ]
  },
  {
   "cell_type": "code",
   "execution_count": 2,
   "metadata": {},
   "outputs": [
    {
     "ename": "",
     "evalue": "",
     "output_type": "error",
     "traceback": [
      "<interactive>:1:1: error: Variable not in scope: ghc"
     ]
    }
   ],
   "source": [
    "# 查看版本\n",
    "ghc --version"
   ]
  },
  {
   "cell_type": "markdown",
   "metadata": {},
   "source": [
    "## cabal 相关命令"
   ]
  },
  {
   "cell_type": "code",
   "execution_count": 3,
   "metadata": {},
   "outputs": [
    {
     "ename": "",
     "evalue": "",
     "output_type": "error",
     "traceback": [
      "<interactive>:1:1: error: Variable not in scope: cabal"
     ]
    }
   ],
   "source": [
    "# 帮助信息\n",
    "cabal --help"
   ]
  },
  {
   "cell_type": "code",
   "execution_count": 4,
   "metadata": {},
   "outputs": [
    {
     "ename": "",
     "evalue": "",
     "output_type": "error",
     "traceback": [
      "<interactive>:1:1: error: Variable not in scope: cabal"
     ]
    }
   ],
   "source": [
    "# 查看版本\n",
    "cabal --version"
   ]
  },
  {
   "cell_type": "code",
   "execution_count": 5,
   "metadata": {},
   "outputs": [
    {
     "ename": "",
     "evalue": "",
     "output_type": "error",
     "traceback": [
      "<interactive>:1:1: error: Variable not in scope: cabal :: t0 -> t1 -> a\n<interactive>:1:7: error: Variable not in scope: install\n<interactive>:1:15: error: Variable not in scope: cabal\n<interactive>:1:21: error: Variable not in scope: install"
     ]
    }
   ],
   "source": [
    "# 升级\n",
    "cabal install cabal-install"
   ]
  },
  {
   "cell_type": "code",
   "execution_count": 6,
   "metadata": {},
   "outputs": [
    {
     "ename": "",
     "evalue": "",
     "output_type": "error",
     "traceback": [
      "<interactive>:1:1: error: Variable not in scope: cabal :: t0 -> t\n<interactive>:1:7: error: Variable not in scope: update"
     ]
    }
   ],
   "source": [
    "# 更新包源列表\n",
    "cabal update"
   ]
  },
  {
   "cell_type": "code",
   "execution_count": 1,
   "metadata": {},
   "outputs": [
    {
     "ename": "",
     "evalue": "",
     "output_type": "error",
     "traceback": [
      "Parse error (line 1, column 1): parse error on input ‘#’"
     ]
    }
   ],
   "source": [
    "# 安装包\n",
    "cabal install package"
   ]
  },
  {
   "cell_type": "markdown",
   "metadata": {},
   "source": [
    "## stack 相关命令"
   ]
  },
  {
   "cell_type": "code",
   "execution_count": 7,
   "metadata": {},
   "outputs": [
    {
     "ename": "",
     "evalue": "",
     "output_type": "error",
     "traceback": [
      "<interactive>:1:1: error: Variable not in scope: stack"
     ]
    }
   ],
   "source": [
    "# 帮助信息\n",
    "stack --help"
   ]
  },
  {
   "cell_type": "code",
   "execution_count": 8,
   "metadata": {},
   "outputs": [
    {
     "ename": "",
     "evalue": "",
     "output_type": "error",
     "traceback": [
      "<interactive>:1:1: error: Variable not in scope: stack"
     ]
    }
   ],
   "source": [
    "# 查看版本\n",
    "stack --version"
   ]
  },
  {
   "cell_type": "code",
   "execution_count": 9,
   "metadata": {},
   "outputs": [
    {
     "ename": "",
     "evalue": "",
     "output_type": "error",
     "traceback": [
      "<interactive>:1:1: error: Variable not in scope: stack :: t0 -> t\n<interactive>:1:7: error: Variable not in scope: upgrade"
     ]
    }
   ],
   "source": [
    "# 升级\n",
    "stack upgrade"
   ]
  },
  {
   "cell_type": "code",
   "execution_count": 10,
   "metadata": {},
   "outputs": [
    {
     "ename": "",
     "evalue": "",
     "output_type": "error",
     "traceback": [
      "<interactive>:1:1: error: Variable not in scope: proxychains4 :: t0 -> t1 -> t2 -> t\n<interactive>:1:14: error: Variable not in scope: stack\n<interactive>:1:20: error: Variable not in scope: new\n<interactive>:1:24: error: Variable not in scope: subtitlec"
     ]
    }
   ],
   "source": [
    "# 新建项目\n",
    "proxychains4 stack new subtitlec"
   ]
  },
  {
   "cell_type": "code",
   "execution_count": 11,
   "metadata": {},
   "outputs": [
    {
     "ename": "",
     "evalue": "",
     "output_type": "error",
     "traceback": [
      "<interactive>:1:1: error: Variable not in scope: stack :: t0 -> t\n<interactive>:1:7: error: Variable not in scope: setup"
     ]
    }
   ],
   "source": [
    "# 设置项目\n",
    "stack setup"
   ]
  },
  {
   "cell_type": "code",
   "execution_count": 12,
   "metadata": {},
   "outputs": [
    {
     "ename": "",
     "evalue": "",
     "output_type": "error",
     "traceback": [
      "<interactive>:1:1: error: Variable not in scope: stack :: t0 -> t\n<interactive>:1:7: error: Variable not in scope: build"
     ]
    }
   ],
   "source": [
    "# 构建项目\n",
    "stack build --test --haddock --no-haddock-hyperlink-source"
   ]
  },
  {
   "cell_type": "markdown",
   "metadata": {},
   "source": [
    "## 相关链接"
   ]
  },
  {
   "cell_type": "markdown",
   "metadata": {},
   "source": [
    "- [Haskell 构建工具教程](https://github.com/hskll/community/wiki/%5B%E8%AF%91%5D-Haskell-%E6%9E%84%E5%BB%BA%E5%B7%A5%E5%85%B7%E6%95%99%E7%A8%8B)\n",
    "- [What's the difference between Stackage and Hackage?](https://www.reddit.com/r/haskell/comments/5d27c2/whats_the_difference_between_stackage_and_hackage/)"
   ]
  }
 ],
 "metadata": {
  "kernelspec": {
   "display_name": "Haskell",
   "language": "haskell",
   "name": "haskell"
  },
  "language_info": {
   "codemirror_mode": "Haskell",
   "file_extension": ".hs",
   "mimetype": "text/x-haskell",
   "name": "haskell",
   "pygments_lexer": "Haskell",
   "version": "8.10.4"
  }
 },
 "nbformat": 4,
 "nbformat_minor": 4
}
